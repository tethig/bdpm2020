{
 "cells": [
  {
   "cell_type": "markdown",
   "metadata": {
    "slideshow": {
     "slide_type": "slide"
    }
   },
   "source": [
    "# Creating Scaleable and Reproducible Workflows in Genomics"
   ]
  },
  {
   "cell_type": "markdown",
   "metadata": {
    "slideshow": {
     "slide_type": "subslide"
    }
   },
   "source": [
    "## Pre-Requisites"
   ]
  },
  {
   "cell_type": "markdown",
   "metadata": {
    "slideshow": {
     "slide_type": "subslide"
    }
   },
   "source": [
    "### Command-line environment\n",
    "A key requirement is a computer running `bash` (or another shell program, e.g. `zsh`). This works natively on Linux and MacOS. For Windows 10:\n",
    "1. Install Linux sub-system (Add Features in Control Panel) and reboot.\n",
    "2. Install Ubuntu from the Microsoft store.\n",
    "\n",
    "For other OSs just launch your terminal/shell program.\n",
    "\n",
    "### Conda package manager\n",
    "We need a copy of the `conda` package manager. For your own computer I generally recommend install the python 3.x version of Anaconda using the [appropriate installer here](https://www.anaconda.com/distribution/). If you are working on a remote linux server, I would install Miniconda:\n",
    "```\n",
    "curl -O https://repo.continuum.io/miniconda/Miniconda3-latest-Linux-x86_64.sh\n",
    "chmod 755 Miniconda3-latest-Linux-x86_64.sh\n",
    "./Miniconda3-latest-Linux-x86_64.sh\n",
    "# log off and then on again\n",
    "```\n",
    "You will then need to add the appropriate channels (in the appropriate order) to use bioconda:\n",
    "```\n",
    "conda config --add channels defaults\n",
    "conda config --add channels bioconda\n",
    "conda config --add channels conda-forge\n",
    "```\n",
    "### Running Jupyter\n",
    "To execute this jupyter notebook on your local machine you will need Anaconda (as above) and a copy of the `bash kernel` which you can install with `conda install bash_kernel`.\n",
    "\n",
    "You might also benefit from downloading this repository using `git`. Please install this and other software as indicated below.\n",
    "\n",
    "### GNU commands\n",
    "IFF you are using MacOS, it will be easier to follow along if you install [GNU Coreutils](https://www.gnu.org/software/coreutils/). First I recommend installing homebrew using the [instructions here](https://brew.sh), then `brew install coreutils`.\n",
    "\n",
    "### Additional commands\n",
    "The following utilities are also helpful: `htop` (monitoring activity), `tmux` (terminal multiplexer), `git` (to download this repository) and `parallel` (to parallelise some code across your processors). You can install these using your installer (`apt` for Ubuntu, `brew` for MacOS, `pacman` for Arch Linux, `yum` for CentOS). With `apt` or `yum`, you usually need to precede these with `sudo` for proper installation, e.g. ` sudo yum install htop`."
   ]
  },
  {
   "cell_type": "markdown",
   "metadata": {
    "slideshow": {
     "slide_type": "slide"
    }
   },
   "source": [
    "## Running this notebook"
   ]
  },
  {
   "cell_type": "markdown",
   "metadata": {
    "slideshow": {
     "slide_type": "subslide"
    }
   },
   "source": [
    "You can run this notebook (after installing the relevant software) via your terminal as follows:\n",
    "```jupyter notebook BDPM2020_Dickins.ipynb```"
   ]
  },
  {
   "cell_type": "markdown",
   "metadata": {
    "slideshow": {
     "slide_type": "slide"
    }
   },
   "source": [
    "## Notes"
   ]
  },
  {
   "cell_type": "markdown",
   "metadata": {
    "slideshow": {
     "slide_type": "subslide"
    }
   },
   "source": [
    "I have some notes on using the [conda package manager here](https://github.com/tethig/turbo-spoon/blob/master/(Ana)conda.md)."
   ]
  },
  {
   "cell_type": "code",
   "execution_count": null,
   "metadata": {
    "slideshow": {
     "slide_type": "subslide"
    }
   },
   "outputs": [],
   "source": []
  }
 ],
 "metadata": {
  "celltoolbar": "Slideshow",
  "kernelspec": {
   "display_name": "Bash",
   "language": "bash",
   "name": "bash"
  },
  "language_info": {
   "codemirror_mode": "shell",
   "file_extension": ".sh",
   "mimetype": "text/x-sh",
   "name": "bash"
  }
 },
 "nbformat": 4,
 "nbformat_minor": 4
}
